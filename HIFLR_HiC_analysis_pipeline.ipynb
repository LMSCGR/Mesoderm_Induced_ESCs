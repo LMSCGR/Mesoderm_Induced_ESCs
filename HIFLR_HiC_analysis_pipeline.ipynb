{
 "cells": [
  {
   "cell_type": "markdown",
   "id": "b1a0696b-3c86-4a42-9e9f-aecd840f4524",
   "metadata": {
    "kernel": "Bash"
   },
   "source": [
    "## Pipeline for HiC Analysis and visualization of TADs with significant interactions\n",
    "\n",
    "Major steps:\n",
    "\n",
    "* Obtain genome-wide contact matrix by aligning reads to genome using Juicer program \n",
    "* Convert juicer aligment output to tag file compatible with Homer\n",
    "* Extract significant interactions of region(s) of interest using Homer\n",
    "* Identify tads and loops using homer\n",
    "* Generate bedpe file with output with significant interaction from Homer\n",
    "* Convert juicer matrix to .h5 (cool) matrix to plot with HicExplorer\n",
    "* Generate a track file \n",
    "* Plot TAD and interactions using HicExplorer\n",
    "\n",
    "\n"
   ]
  },
  {
   "cell_type": "markdown",
   "id": "9fefb8c5-0579-40d7-9c2b-d965ff0021f4",
   "metadata": {
    "kernel": "SoS",
    "tags": []
   },
   "source": [
    "\n",
    "### Prerequisites \n",
    " * juicer <= 1.6 including the restriction sites files\n",
    " * homer\n",
    " * hicexplorer <= 3.6\n",
    "\n",
    "### Input\n",
    "***Raw sequencing files:***  \n",
    " * HIFLR_merged_R1.fastq.gz\n",
    " * HIFLR_merged_R2.fastq.gz\n",
    " * SRR9016013_R1.fastq\n",
    " * SRR9016013_R2.fastq\n",
    " \n",
    " \n",
    "See methods for information to access ```HIFLR_merged_R[1,2].fastq.gz``` files from the GEO repository of this publication.\n",
    "\n",
    "```SRR9016013_R[1,2].fastq``` correspond to ESC (Naive) files downloaded from Kurup J.T., et al., 2020 https://doi.org/10.1242/dev.188516\n",
    "\n"
   ]
  },
  {
   "cell_type": "markdown",
   "id": "1fccec42-3656-48da-ba78-beab3d46789b",
   "metadata": {
    "kernel": "SoS"
   },
   "source": [
    "### Obtain genome-wide contact matrix\n",
    "Align reads to genome using Juicer program"
   ]
  },
  {
   "cell_type": "code",
   "execution_count": 1,
   "id": "6b624edb-53e3-4c4e-90d7-609ab8b40024",
   "metadata": {
    "kernel": "Bash",
    "tags": []
   },
   "outputs": [
    {
     "name": "stdout",
     "output_type": "stream",
     "text": [
      "[+] Loading juicer  1.6 \n",
      "\n"
     ]
    }
   ],
   "source": [
    "#adapt to your environment\n",
    "PWD_HIFLR=\"path_to_raw_data_folder\"\n",
    "PWD_ESC=\"path_to_esc_data_folder\"\n",
    "ARIMA='/path/to/mm10_Arima.txt'\n",
    "\n"
   ]
  },
  {
   "cell_type": "code",
   "execution_count": null,
   "id": "a40f43f9-557a-4cf8-9b74-de56d6873a14",
   "metadata": {
    "kernel": "Bash"
   },
   "outputs": [],
   "source": [
    "#run the juicer pipeline with the Naive (ESC) raw data and the restriction sites file\n",
    "cd $PWD_ESC\n",
    "\n",
    "juicer.sh -d $PWD_ESC -g mm10 -y $ARIMA"
   ]
  },
  {
   "cell_type": "code",
   "execution_count": null,
   "id": "236e001f-20be-4eb0-9edb-da6f3ca9f222",
   "metadata": {
    "kernel": "Bash"
   },
   "outputs": [],
   "source": [
    "#run the juicer pipeline with the HIFLR raw data and the restriction sites file\n",
    "cd $PWD_HILFR\n",
    "\n",
    "juicer.sh -d $PWD_HILFR -g mm10 -y $ARIMA"
   ]
  },
  {
   "cell_type": "markdown",
   "id": "60d0218d-bbe0-4503-b20e-dc56ce4e62fe",
   "metadata": {
    "kernel": "Bash"
   },
   "source": [
    "### Extract significant interactions from regions of interest \n",
    "#### Region of interest: Pax7 Intron 7th\n",
    "\n",
    "Intron 7th (950bp)Coordinates: 139771035-139771985\n",
    "\n",
    "Steps:\n",
    "\n",
    "1) Generate HiC-Summary file from merged_nodps.txt from Juicer alignment\n",
    "2) Generate reference tag files \n",
    "3) Identify significant interactions of region of interest \n",
    "4) Find TADs and Loops\n",
    "5) Create a bedpe file from homer significant interactions output (from step 3)"
   ]
  },
  {
   "cell_type": "code",
   "execution_count": null,
   "id": "f39cf27a-edaf-4b82-8faa-16ac37f4836d",
   "metadata": {
    "kernel": "Bash"
   },
   "outputs": [],
   "source": [
    "#step 1\n",
    "\n",
    "# Generate HiC-summary from alignment ESC Published data set\n",
    "# Juicer output is in folder PWD_ESC/juicer\n",
    "# save output summary file from this command in PWD_ESC/homer \n",
    "#for downstream analysis with homer\n",
    "\n",
    "cd $PWD_ESC\n",
    "\n",
    "awk 'BEGIN {OFS=\"\\t\"};{print $15,$2,$3,($1 == \"0\" ? \"+\" : \"-\"),$6,$7,($5 == \"0\" ? \"+\" : \"-\")}' /juicer/aligned/merged_nodups.txt > /homer/ESC_merged_nodups_sum.txt"
   ]
  },
  {
   "cell_type": "code",
   "execution_count": null,
   "id": "0944fc25-42e3-4197-a5db-dfcca68c5e33",
   "metadata": {
    "kernel": "Bash"
   },
   "outputs": [],
   "source": [
    "# Generate HiC-summary from alignment HIFLR data set\n",
    "# Juicer output is in folder PWD_HIFLR/juicer\n",
    "# save output summary file from this command in PWD_HIFLR/homer \n",
    "# for downstream analysis with homer\n",
    "\n",
    "cd $PWD_HIFLR\n",
    "\n",
    "awk 'BEGIN {OFS=\"\\t\"};{print $15,$2,$3,($1 == \"0\" ? \"+\" : \"-\"),$6,$7,($5 == \"0\" ? \"+\" : \"-\")}' /juicer/aligned/merged_nodups.txt > /homer/HIFLR_merged_nodups_sum.txt"
   ]
  },
  {
   "cell_type": "code",
   "execution_count": null,
   "id": "b87c8667-b281-4180-87fa-2f611b14fe1b",
   "metadata": {
    "kernel": "Bash"
   },
   "outputs": [],
   "source": [
    "# step 2\n",
    "\n",
    "# Generate reference tag files from ESC HiC-Summary \n",
    "\n",
    "cd $PWD_ESC\n",
    "\n",
    "makeTagDirectory ESC-HiC -format HiCsummary /homer/ESC_merged_nodups_sum.txt\n"
   ]
  },
  {
   "cell_type": "code",
   "execution_count": null,
   "id": "16ebb5d9-7abf-4338-a876-670cdc1c6822",
   "metadata": {
    "kernel": "Bash"
   },
   "outputs": [],
   "source": [
    "# Generate reference tag files from HILFR HiC-Summary \n",
    "\n",
    "cd $PWD_HILFR\n",
    "\n",
    "makeTagDirectory HILFR-HiC -format HiCsummary /homer/HILFR_merged_nodups_sum.txt\n"
   ]
  },
  {
   "cell_type": "code",
   "execution_count": null,
   "id": "349a18c0-0de5-41b2-b77f-41c23336be80",
   "metadata": {
    "kernel": "Bash"
   },
   "outputs": [],
   "source": [
    "# step 3\n",
    "\n",
    "#Identify and extract significant interaction of Intron 7th in ESC dataset\n",
    "# here we tested different resolution and window sizes and\n",
    "# determined that given this dataset the optimal sizes were set \n",
    "# at -res 10k -window 25k\n",
    "\n",
    "cd $PWD_ESC/homer\n",
    "\n",
    "analyzeHiC ESC-HiC/ -pos chr4:139771035-139771985 -vsGenome -res 10000 -window 25000 -cpu 28 -interactions ESC_intron7.txt -nomatrix\n"
   ]
  },
  {
   "cell_type": "code",
   "execution_count": null,
   "id": "970eefe6-3659-4fe5-b965-f605d340588d",
   "metadata": {
    "kernel": "Bash"
   },
   "outputs": [],
   "source": [
    "#Identify and extract significant interaction of Intron 7th in HLFR dataset\n",
    "# here we tested different resolution and window sizes and\n",
    "# determined that given this dataset the optimal sizes were set \n",
    "# at -res 10k -window 25k\n",
    "\n",
    "cd $PWD_HILFR/homer\n",
    "\n",
    "analyzeHiC HILFR-HiC/ -pos chr4:139771035-139771985 -vsGenome -res 10000 -window 25000 -cpu 28 -interactions HILFR_intron7.txt -nomatrix\n"
   ]
  },
  {
   "cell_type": "code",
   "execution_count": null,
   "id": "fe04f9af-7723-4ce8-a6e3-88b49987b27c",
   "metadata": {
    "kernel": "Bash"
   },
   "outputs": [],
   "source": [
    "# step 4\n",
    "\n",
    "# Identify tads and loops in ESC HiC dataset\n",
    "\n",
    "cd $PWD_ESC/homer\n",
    "findTADsAndLoops.pl find ESC-HiC/ -cpu 28 -res 10000 -window 25000 -genome mm10 -o ESC_tads_and_loops\n"
   ]
  },
  {
   "cell_type": "code",
   "execution_count": null,
   "id": "2e2b5c7e-4cb1-43bc-9641-f51951eefe9b",
   "metadata": {
    "kernel": "Bash"
   },
   "outputs": [],
   "source": [
    "# Identify tads and loops in HILFR HiC dataset\n",
    "\n",
    "cd $PWD_HILFR/homer\n",
    "findTADsAndLoops.pl find ESC-HiC/ -cpu 28 -res 10000 -window 25000 -genome mm10 -o HILFR_tads_and_loops\n"
   ]
  },
  {
   "cell_type": "code",
   "execution_count": null,
   "id": "0c937c65-f9c2-40a5-92e7-a3a32a4a1aff",
   "metadata": {
    "kernel": "R",
    "tags": []
   },
   "outputs": [],
   "source": [
    "# step 5\n",
    "\n",
    "# generate Bedpe file from significant interactions extracted in step 3\n",
    "\n",
    "## Intron 7 significant interactions in ESC\n",
    "\n",
    "library(dplyr)\n",
    "\n",
    "# ESC\n",
    "esc <- \"path_to_ESC_homer_output_folder\"\n",
    "file_dir <- esc\n",
    "setwd(file_dir)\n",
    "\n",
    "#ESC -10kb resolution, 25kb window size\n",
    "hic_files_10x25 <- \"ESC_intron7.txt\"\n",
    "offsets_10x25<-c(1000,1000,1000,1000)\n",
    "\n",
    "#get a list of all genomic region object for the above files \n",
    "hic_data <- lapply((1:length(hic_files)), getGenomicInteractions, description= description)\n",
    "\n",
    "#combine them into a single object\n",
    "#This is necessary when ploting interactions from \n",
    "#multiple regions of interest (For instance Promoter and intron 7 -E7)\n",
    "hic_data <- do.call(c, hic_data)\n",
    "as.data.frame(hic_data)\n",
    "\n",
    "\n",
    "data_esc <-(as.data.frame(hic_data))\n",
    "\n",
    "## Adding offsets\n",
    "data_offsets <- data_esc\n",
    "\n",
    "data_offsets$start1 <- data_offsets$start1 +1000\n",
    "data_offsets$end1 <- data_offsets$end1 +1000\n",
    "data_offsets$start2 <- data_offsets$start2 +1000\n",
    "data_offsets$end2 <- data_offsets$end2 +1000\n",
    "\n",
    "# select data for bedpe file\n",
    "toplot <- select(datamb_offsets, c('seqnames1', 'start1', 'end1', 'seqnames2', 'start2', 'end2'))\n",
    "\n",
    "# Writing bedpe\n",
    "\n",
    "write.table(toplot, file = \"esc_intron7.bedpe\", row.names=FALSE, col.names=FALSE, sep=\"\\t\", quote=FALSE)\n",
    "\n",
    "\n"
   ]
  },
  {
   "cell_type": "code",
   "execution_count": null,
   "id": "765c5ec8-e638-4630-98e7-ab2eee67973d",
   "metadata": {
    "kernel": "R"
   },
   "outputs": [],
   "source": [
    "\n",
    "# Generate Bedpe file from significant interactions extracted in step 3\n",
    "\n",
    "## Intron 7 significant interactions in HILFR\n",
    "\n",
    "library(dplyr)\n",
    "\n",
    "# HILFR\n",
    "hilfr <- \"path_to_HILFR_homer_output_folder\"\n",
    "file_dir <- hilfr\n",
    "setwd(file_dir)\n",
    "\n",
    "#ESC -10kb resolution, 25kb window size\n",
    "hic_files_10x25 <- \"HILFR_intron7.txt\"\n",
    "offsets_10x25<-c(1000,1000,1000,1000)\n",
    "\n",
    "#get a list of all genomic region object for the above files \n",
    "hic_data <- lapply((1:length(hic_files)), getGenomicInteractions, description= description)\n",
    "\n",
    "#combine them into a single object\n",
    "#This is necessary when ploting interactions from \n",
    "#multiple regions of interest (For instance Promoter and intron 7 -E7)\n",
    "hic_data <- do.call(c, hic_data)\n",
    "as.data.frame(hic_data)\n",
    "\n",
    "\n",
    "data_hilfr <-(as.data.frame(hic_data))\n",
    "\n",
    "## Adding offsets\n",
    "data_offsets <- data_hilfr\n",
    "\n",
    "data_offsets$start1 <- data_offsets$start1 +1000\n",
    "data_offsets$end1 <- data_offsets$end1 +1000\n",
    "data_offsets$start2 <- data_offsets$start2 +1000\n",
    "data_offsets$end2 <- data_offsets$end2 +1000\n",
    "\n",
    "# select data for bedpe file\n",
    "toplot <- select(datamb_offsets, c('seqnames1', 'start1', 'end1', 'seqnames2', 'start2', 'end2'))\n",
    "\n",
    "# Writing bedpe\n",
    "\n",
    "write.table(toplot, file = \"hilfr_intron7.bedpe\", row.names=FALSE, col.names=FALSE, sep=\"\\t\", quote=FALSE)\n",
    "\n",
    "\n",
    "\n"
   ]
  },
  {
   "cell_type": "markdown",
   "id": "8335bbf8-2da2-4109-ae69-0595c633bb40",
   "metadata": {
    "kernel": "R"
   },
   "source": [
    "### Plot TAD and interactions \n",
    "#### Region of interest: Pax7 Intron 7th\n",
    "\n",
    "Intron 7th (950bp)Coordinates: 139771035-139771985\n",
    "\n",
    "Steps:\n",
    "\n",
    "1) Convert juicer ```.hic``` to ```.cool``` using hicConvertFormat from HiCExplorer\n",
    "\n",
    "2) Create a ```_track.ini``` file containing the track information (see example file in next cell)\n",
    " \n",
    "3) Run hicPlotTADs"
   ]
  },
  {
   "cell_type": "code",
   "execution_count": null,
   "id": "4f5ecb87-75d1-4b67-bedb-151042e0efc3",
   "metadata": {
    "kernel": "Bash",
    "tags": []
   },
   "outputs": [],
   "source": [
    "# step 1\n",
    "# Convert juicer .hic to cooler using hicConvertFormat  from HiCExplorer\n",
    "\n",
    "cd $PWD_ESC/juicer\n",
    "\n",
    "hicConvertFormat --matrices aligned/inter_30.hic \\\n",
    "                 --outFileName  esc.cool \\\n",
    "                 --inputFormat  hic \\\n",
    "                 --outputFormat cool\n",
    "\n",
    "cd $PWD_HILFR/juicer\n",
    "\n",
    "hicConvertFormat --matrices aligned/inter_30.hic \\\n",
    "                 --outFileName  hiflr.cool \\\n",
    "                 --inputFormat  hic \\\n",
    "                 --outputFormat cool"
   ]
  },
  {
   "cell_type": "code",
   "execution_count": null,
   "id": "27518b0c-90b6-41ea-bf37-c77245dbbd0b",
   "metadata": {
    "kernel": "R"
   },
   "outputs": [],
   "source": [
    "# step 2\n",
    "\n",
    "## track file template - this template contains TADS and interaction. \n",
    "\n",
    "\n",
    "[x-axis]\n",
    "where = top\n",
    "\n",
    "[hic matrix]\n",
    "file = esc.mcool::/resolutions/10000\n",
    "title = Naïve\n",
    "# depth is the maximum distance plotted in bp. In Hi-C tracks\n",
    "# the height of the track is calculated based on the depth such\n",
    "# that the matrix does not look deformed\n",
    "depth = 1000000\n",
    "transform = log1p\n",
    "file_type = hic_matrix\n",
    "\n",
    "[tads]\n",
    "file = ESC_tad.2D.bed\n",
    "file_type = domains\n",
    "border_color = black\n",
    "color = none\n",
    "# the tads are overlay over the hic-matrix\n",
    "# the share-y options sets the y-axis to be shared\n",
    "# between the Hi-C matrix and the TADs.\n",
    "overlay_previous = share-y\n",
    "\n",
    "[spacer]\n",
    "\n",
    "[hic matrix 2]\n",
    "file = HILFR.mcool::/resolutions/10000\n",
    "title = HILFR\n",
    "# depth is the maximum distance plotted in bp. In Hi-C tracks\n",
    "# the height of the track is calculated based on the depth such\n",
    "# that the matrix does not look deformed\n",
    "depth = 1000000\n",
    "transform = log1p\n",
    "file_type = hic_matrix\n",
    "\n",
    "[tads 2]\n",
    "file = HILFR.tad.2D.bed\n",
    "file_type = domains\n",
    "border_color = black\n",
    "color = none\n",
    "# the tads are overlay over the hic-matrix\n",
    "# the share-y options sets the y-axis to be shared\n",
    "# between the Hi-C matrix and the TADs.\n",
    "overlay_previous = share-y\n",
    "\n",
    "[spacer]\n",
    "\n",
    "[gene annotation]\n",
    "file = Path_to_annotation_file: mouse_genome/mm10.refGene.gtf.gz\n",
    "height = 10\n",
    "title = mm10 genes\n",
    "merge_transcripts = true\n",
    "prefered_name = gene_name\n",
    "fontsize = 12\n",
    "file_type = gtf"
   ]
  },
  {
   "cell_type": "code",
   "execution_count": null,
   "id": "5aa3801e-2c06-4cc9-91c8-d3d99ada1623",
   "metadata": {
    "kernel": "Bash"
   },
   "outputs": [],
   "source": [
    "# step 3 \n",
    "#plot TAD at the region of interest with atac seq and interaction tracks\n",
    "\n",
    "hicPlotTADs --tracks esc_hiflr_track.ini\n",
    "            -o atac.esc.8r1.6r2.interactions.with.offsets.gray.v4.pdf \n",
    "            --region chr4:139,700,000-139,900,000\n",
    "    "
   ]
  },
  {
   "cell_type": "code",
   "execution_count": null,
   "id": "980d08ae-bde4-4446-9e89-3a2e74c576e2",
   "metadata": {
    "kernel": "Bash"
   },
   "outputs": [],
   "source": []
  }
 ],
 "metadata": {
  "kernelspec": {
   "display_name": "SoS",
   "language": "sos",
   "name": "sos"
  },
  "language_info": {
   "codemirror_mode": "sos",
   "file_extension": ".sos",
   "mimetype": "text/x-sos",
   "name": "sos",
   "nbconvert_exporter": "sos_notebook.converter.SoS_Exporter",
   "pygments_lexer": "sos"
  },
  "sos": {
   "kernels": [
    [
     "Bash",
     "calysto_bash",
     "Bash",
     "#E6EEFF",
     ""
    ],
    [
     "R",
     "ir",
     "R",
     "#DCDCDA",
     ""
    ]
   ],
   "version": "0.22.8"
  }
 },
 "nbformat": 4,
 "nbformat_minor": 5
}
